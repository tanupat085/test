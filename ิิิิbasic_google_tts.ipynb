{
  "nbformat": 4,
  "nbformat_minor": 0,
  "metadata": {
    "colab": {
      "name": "ิิิิbasic google tts.ipynb",
      "provenance": [],
      "authorship_tag": "ABX9TyMDGQvnohngQ2kH3rcSjzSu",
      "include_colab_link": true
    },
    "kernelspec": {
      "name": "python3",
      "display_name": "Python 3"
    },
    "language_info": {
      "name": "python"
    },
    "accelerator": "GPU"
  },
  "cells": [
    {
      "cell_type": "markdown",
      "metadata": {
        "id": "view-in-github",
        "colab_type": "text"
      },
      "source": [
        "<a href=\"https://colab.research.google.com/github/tanupat085/test/blob/master/%E0%B8%B4%E0%B8%B4%E0%B8%B4%E0%B8%B4basic_google_tts.ipynb\" target=\"_parent\"><img src=\"https://colab.research.google.com/assets/colab-badge.svg\" alt=\"Open In Colab\"/></a>"
      ]
    },
    {
      "cell_type": "code",
      "metadata": {
        "colab": {
          "base_uri": "https://localhost:8080/"
        },
        "id": "iP2HxXlZZB9N",
        "outputId": "c858c78c-cbd3-4a61-e3d8-a7d3360071b4"
      },
      "source": [
        "!pip install gTTS"
      ],
      "execution_count": 2,
      "outputs": [
        {
          "output_type": "stream",
          "text": [
            "Collecting gTTS\n",
            "  Downloading https://files.pythonhosted.org/packages/e4/9e/fe139150719281309c6e52a799e86d7d8d19f6f2593b340e3693f6ef2c77/gTTS-2.2.3-py3-none-any.whl\n",
            "Requirement already satisfied: requests in /usr/local/lib/python3.7/dist-packages (from gTTS) (2.23.0)\n",
            "Requirement already satisfied: click in /usr/local/lib/python3.7/dist-packages (from gTTS) (7.1.2)\n",
            "Requirement already satisfied: six in /usr/local/lib/python3.7/dist-packages (from gTTS) (1.15.0)\n",
            "Requirement already satisfied: certifi>=2017.4.17 in /usr/local/lib/python3.7/dist-packages (from requests->gTTS) (2021.5.30)\n",
            "Requirement already satisfied: chardet<4,>=3.0.2 in /usr/local/lib/python3.7/dist-packages (from requests->gTTS) (3.0.4)\n",
            "Requirement already satisfied: urllib3!=1.25.0,!=1.25.1,<1.26,>=1.21.1 in /usr/local/lib/python3.7/dist-packages (from requests->gTTS) (1.24.3)\n",
            "Requirement already satisfied: idna<3,>=2.5 in /usr/local/lib/python3.7/dist-packages (from requests->gTTS) (2.10)\n",
            "Installing collected packages: gTTS\n",
            "Successfully installed gTTS-2.2.3\n"
          ],
          "name": "stdout"
        }
      ]
    },
    {
      "cell_type": "code",
      "metadata": {
        "colab": {
          "base_uri": "https://localhost:8080/",
          "height": 75
        },
        "id": "7GhMyMNuZFqv",
        "outputId": "fa4925d4-335e-488c-dc43-086337705c02"
      },
      "source": [
        "from gtts import gTTS\n",
        "from IPython.display import Audio\n",
        "tts = gTTS('สวัสดี')\n",
        "tts.save('1.wav')\n",
        "sound_file = '1.wav'\n",
        "Audio(sound_file,autoplay=True)"
      ],
      "execution_count": 6,
      "outputs": [
        {
          "output_type": "execute_result",
          "data": {
            "text/html": [
              "\n",
              "                <audio controls=\"controls\" autoplay=\"autoplay\">\n",
              "                    <source src=\"data:audio/x-wav;base64,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\" type=\"audio/x-wav\" />\n",
              "                    Your browser does not support the audio element.\n",
              "                </audio>\n",
              "              "
            ],
            "text/plain": [
              "<IPython.lib.display.Audio object>"
            ]
          },
          "metadata": {
            "tags": []
          },
          "execution_count": 6
        }
      ]
    }
  ]
}