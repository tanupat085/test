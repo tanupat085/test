{
  "nbformat": 4,
  "nbformat_minor": 0,
  "metadata": {
    "colab": {
      "name": "homework.ipynb",
      "provenance": [],
      "collapsed_sections": []
    },
    "kernelspec": {
      "name": "python3",
      "display_name": "Python 3"
    }
  },
  "cells": [
    {
      "cell_type": "code",
      "metadata": {
        "id": "qysn6xz2_mqi",
        "colab_type": "code",
        "colab": {}
      },
      "source": [
        "nameList = ['Mike' , 'Winn' , 'Eak' , 'Non']"
      ],
      "execution_count": 3,
      "outputs": []
    },
    {
      "cell_type": "code",
      "metadata": {
        "id": "ASNlAP8z7IVx",
        "colab_type": "code",
        "colab": {
          "base_uri": "https://localhost:8080/",
          "height": 34
        },
        "outputId": "ad52fde7-b126-4e5b-9bdc-8dfdd1fff04d"
      },
      "source": [
        "# 22p21s0047  tanupat  ครบกำหนด 19 ก.ย. 23:59\n",
        "# ส่งรอบแรกตามกำหนดแล้วครับ อันนี้อัพโหลดใหม่แก้ไข ตรงใส่ รหัส กับ วันที่\n",
        "\n",
        "def coubtnamewithalphabet(alphabet):\n",
        "  coubtnamewithalphabet = 0\n",
        "  for name in nameList:\n",
        "    if alphabet in name :\n",
        "      coubtnamewithalphabet +=1\n",
        "  return coubtnamewithalphabet\n",
        "coubtnamewithalphabet('i')"
      ],
      "execution_count": 4,
      "outputs": [
        {
          "output_type": "execute_result",
          "data": {
            "text/plain": [
              "2"
            ]
          },
          "metadata": {
            "tags": []
          },
          "execution_count": 4
        }
      ]
    }
  ]
}