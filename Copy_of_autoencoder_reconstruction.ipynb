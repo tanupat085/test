{
  "nbformat": 4,
  "nbformat_minor": 0,
  "metadata": {
    "colab": {
      "name": "Copy of autoencoder_reconstruction.ipynb",
      "provenance": [],
      "include_colab_link": true
    },
    "kernelspec": {
      "name": "python3",
      "display_name": "Python 3"
    },
    "accelerator": "GPU"
  },
  "cells": [
    {
      "cell_type": "markdown",
      "metadata": {
        "id": "view-in-github",
        "colab_type": "text"
      },
      "source": [
        "<a href=\"https://colab.research.google.com/github/tanupat085/test/blob/master/Copy_of_autoencoder_reconstruction.ipynb\" target=\"_parent\"><img src=\"https://colab.research.google.com/assets/colab-badge.svg\" alt=\"Open In Colab\"/></a>"
      ]
    },
    {
      "cell_type": "code",
      "metadata": {
        "id": "hp72Q4tJcIt8"
      },
      "source": [
        "#%tensorflow_version 2.x\n",
        "import tensorflow as tf\n",
        "import numpy as np\n",
        "from tensorflow.keras import Model, Input, layers, losses, optimizers, datasets\n",
        "from matplotlib import pyplot as plt"
      ],
      "execution_count": 1,
      "outputs": []
    },
    {
      "cell_type": "code",
      "metadata": {
        "id": "1GSNo_r3dsXF",
        "colab": {
          "base_uri": "https://localhost:8080/"
        },
        "outputId": "7f9b0403-fea6-41ab-899e-fdd499bd1442"
      },
      "source": [
        "(X, Y), (Xtest, Ytest) = datasets.mnist.load_data()"
      ],
      "execution_count": 2,
      "outputs": [
        {
          "output_type": "stream",
          "text": [
            "Downloading data from https://storage.googleapis.com/tensorflow/tf-keras-datasets/mnist.npz\n",
            "11493376/11490434 [==============================] - 1s 0us/step\n"
          ],
          "name": "stdout"
        }
      ]
    },
    {
      "cell_type": "code",
      "metadata": {
        "id": "dyTVE0V1eVsZ"
      },
      "source": [
        "X = X.reshape((len(X), -1)).astype(np.float32) / 255.0\n",
        "Xtest = Xtest.reshape((len(Xtest), -1)).astype(np.float32) / 255.0"
      ],
      "execution_count": 3,
      "outputs": []
    },
    {
      "cell_type": "code",
      "metadata": {
        "id": "u_X7ibXEf3Xd"
      },
      "source": [
        "# 784-392-196-98-196-392-784\n",
        "inputs = Input(shape=X.shape[1])\n",
        "\n",
        "en1 = layers.Dense(X.shape[1] // 2, activation='relu')\n",
        "en2 = layers.Dense(X.shape[1] // 4, activation='relu')\n",
        "en3 = layers.Dense(X.shape[1] // 8, activation='relu')\n",
        "\n",
        "de1 = layers.Dense(X.shape[1] // 4, activation='relu')\n",
        "de2 = layers.Dense(X.shape[1] // 2, activation='relu')\n",
        "de3 = layers.Dense(X.shape[1], activation='relu')\n",
        "\n",
        "outputs = de3(de2(de1(en3(en2(en1(inputs))))))\n",
        "\n",
        "model = Model(inputs, outputs)"
      ],
      "execution_count": 4,
      "outputs": []
    },
    {
      "cell_type": "code",
      "metadata": {
        "id": "75aNGZcak26m"
      },
      "source": [
        "model.compile(loss=losses.MeanSquaredError(),\n",
        "              optimizer=optimizers.SGD(learning_rate=0.1))"
      ],
      "execution_count": 5,
      "outputs": []
    },
    {
      "cell_type": "code",
      "metadata": {
        "id": "nYjv98RelFAS",
        "colab": {
          "base_uri": "https://localhost:8080/"
        },
        "outputId": "29520e31-9c1d-4771-c4ba-8d513cdb105c"
      },
      "source": [
        "model.fit(X, X, epochs=50)"
      ],
      "execution_count": 6,
      "outputs": [
        {
          "output_type": "stream",
          "text": [
            "Epoch 1/50\n",
            "1875/1875 [==============================] - 6s 2ms/step - loss: 0.0789\n",
            "Epoch 2/50\n",
            "1875/1875 [==============================] - 4s 2ms/step - loss: 0.0684\n",
            "Epoch 3/50\n",
            "1875/1875 [==============================] - 4s 2ms/step - loss: 0.0559\n",
            "Epoch 4/50\n",
            "1875/1875 [==============================] - 4s 2ms/step - loss: 0.0481\n",
            "Epoch 5/50\n",
            "1875/1875 [==============================] - 4s 2ms/step - loss: 0.0437\n",
            "Epoch 6/50\n",
            "1875/1875 [==============================] - 4s 2ms/step - loss: 0.0408\n",
            "Epoch 7/50\n",
            "1875/1875 [==============================] - 4s 2ms/step - loss: 0.0386\n",
            "Epoch 8/50\n",
            "1875/1875 [==============================] - 4s 2ms/step - loss: 0.0368\n",
            "Epoch 9/50\n",
            "1875/1875 [==============================] - 4s 2ms/step - loss: 0.0355\n",
            "Epoch 10/50\n",
            "1875/1875 [==============================] - 4s 2ms/step - loss: 0.0340\n",
            "Epoch 11/50\n",
            "1875/1875 [==============================] - 4s 2ms/step - loss: 0.0324\n",
            "Epoch 12/50\n",
            "1875/1875 [==============================] - 4s 2ms/step - loss: 0.0315\n",
            "Epoch 13/50\n",
            "1875/1875 [==============================] - 4s 2ms/step - loss: 0.0304\n",
            "Epoch 14/50\n",
            "1875/1875 [==============================] - 4s 2ms/step - loss: 0.0296\n",
            "Epoch 15/50\n",
            "1875/1875 [==============================] - 4s 2ms/step - loss: 0.0290\n",
            "Epoch 16/50\n",
            "1875/1875 [==============================] - 4s 2ms/step - loss: 0.0283\n",
            "Epoch 17/50\n",
            "1875/1875 [==============================] - 4s 2ms/step - loss: 0.0278\n",
            "Epoch 18/50\n",
            "1875/1875 [==============================] - 4s 2ms/step - loss: 0.0274\n",
            "Epoch 19/50\n",
            "1875/1875 [==============================] - 4s 2ms/step - loss: 0.0271\n",
            "Epoch 20/50\n",
            "1875/1875 [==============================] - 4s 2ms/step - loss: 0.0268\n",
            "Epoch 21/50\n",
            "1875/1875 [==============================] - 4s 2ms/step - loss: 0.0263\n",
            "Epoch 22/50\n",
            "1875/1875 [==============================] - 4s 2ms/step - loss: 0.0257\n",
            "Epoch 23/50\n",
            "1875/1875 [==============================] - 4s 2ms/step - loss: 0.0254\n",
            "Epoch 24/50\n",
            "1875/1875 [==============================] - 4s 2ms/step - loss: 0.0251\n",
            "Epoch 25/50\n",
            "1875/1875 [==============================] - 4s 2ms/step - loss: 0.0249\n",
            "Epoch 26/50\n",
            "1875/1875 [==============================] - 4s 2ms/step - loss: 0.0247\n",
            "Epoch 27/50\n",
            "1875/1875 [==============================] - 4s 2ms/step - loss: 0.0245\n",
            "Epoch 28/50\n",
            "1875/1875 [==============================] - 4s 2ms/step - loss: 0.0243\n",
            "Epoch 29/50\n",
            "1875/1875 [==============================] - 4s 2ms/step - loss: 0.0242\n",
            "Epoch 30/50\n",
            "1875/1875 [==============================] - 4s 2ms/step - loss: 0.0240\n",
            "Epoch 31/50\n",
            "1875/1875 [==============================] - 4s 2ms/step - loss: 0.0239\n",
            "Epoch 32/50\n",
            "1875/1875 [==============================] - 4s 2ms/step - loss: 0.0237\n",
            "Epoch 33/50\n",
            "1875/1875 [==============================] - 4s 2ms/step - loss: 0.0236\n",
            "Epoch 34/50\n",
            "1875/1875 [==============================] - 4s 2ms/step - loss: 0.0235\n",
            "Epoch 35/50\n",
            "1875/1875 [==============================] - 4s 2ms/step - loss: 0.0233\n",
            "Epoch 36/50\n",
            "1875/1875 [==============================] - 4s 2ms/step - loss: 0.0232\n",
            "Epoch 37/50\n",
            "1875/1875 [==============================] - 4s 2ms/step - loss: 0.0231\n",
            "Epoch 38/50\n",
            "1875/1875 [==============================] - 4s 2ms/step - loss: 0.0230\n",
            "Epoch 39/50\n",
            "1875/1875 [==============================] - 4s 2ms/step - loss: 0.0229\n",
            "Epoch 40/50\n",
            "1875/1875 [==============================] - 4s 2ms/step - loss: 0.0227\n",
            "Epoch 41/50\n",
            "1875/1875 [==============================] - 4s 2ms/step - loss: 0.0225\n",
            "Epoch 42/50\n",
            "1875/1875 [==============================] - 4s 2ms/step - loss: 0.0224\n",
            "Epoch 43/50\n",
            "1875/1875 [==============================] - 4s 2ms/step - loss: 0.0223\n",
            "Epoch 44/50\n",
            "1875/1875 [==============================] - 4s 2ms/step - loss: 0.0222\n",
            "Epoch 45/50\n",
            "1875/1875 [==============================] - 4s 2ms/step - loss: 0.0221\n",
            "Epoch 46/50\n",
            "1875/1875 [==============================] - 4s 2ms/step - loss: 0.0219\n",
            "Epoch 47/50\n",
            "1875/1875 [==============================] - 4s 2ms/step - loss: 0.0218\n",
            "Epoch 48/50\n",
            "1875/1875 [==============================] - 4s 2ms/step - loss: 0.0215\n",
            "Epoch 49/50\n",
            "1875/1875 [==============================] - 4s 2ms/step - loss: 0.0213\n",
            "Epoch 50/50\n",
            "1875/1875 [==============================] - 4s 2ms/step - loss: 0.0212\n"
          ],
          "name": "stdout"
        },
        {
          "output_type": "execute_result",
          "data": {
            "text/plain": [
              "<tensorflow.python.keras.callbacks.History at 0x7f23f9989350>"
            ]
          },
          "metadata": {
            "tags": []
          },
          "execution_count": 6
        }
      ]
    },
    {
      "cell_type": "code",
      "metadata": {
        "id": "X4IEnmdzhOmG"
      },
      "source": [
        "Xtestencoded = en3(en2(en1(Xtest))).numpy()"
      ],
      "execution_count": 7,
      "outputs": []
    },
    {
      "cell_type": "code",
      "metadata": {
        "id": "xLOzzT5ChWI9",
        "colab": {
          "base_uri": "https://localhost:8080/"
        },
        "outputId": "2ad57b9b-eedd-48d4-8668-9e55a062c1e9"
      },
      "source": [
        "Xtestencoded.shape"
      ],
      "execution_count": 8,
      "outputs": [
        {
          "output_type": "execute_result",
          "data": {
            "text/plain": [
              "(10000, 98)"
            ]
          },
          "metadata": {
            "tags": []
          },
          "execution_count": 8
        }
      ]
    },
    {
      "cell_type": "code",
      "metadata": {
        "id": "2pz2w1c_hX-a",
        "colab": {
          "base_uri": "https://localhost:8080/"
        },
        "outputId": "ff7e3440-0ad0-49d5-eacf-23b79554b037"
      },
      "source": [
        "Recon = de3(de2(de1(Xtestencoded))).numpy()\n",
        "print(Recon.shape)"
      ],
      "execution_count": 9,
      "outputs": [
        {
          "output_type": "stream",
          "text": [
            "(10000, 784)\n"
          ],
          "name": "stdout"
        }
      ]
    },
    {
      "cell_type": "code",
      "metadata": {
        "id": "PSiuaGWJhl2u",
        "colab": {
          "base_uri": "https://localhost:8080/"
        },
        "outputId": "9594b8c6-c147-4149-b80e-6d8b65435c11"
      },
      "source": [
        "Recon = Recon.reshape((len(Recon), 28, 28))\n",
        "print(Recon.shape)"
      ],
      "execution_count": 10,
      "outputs": [
        {
          "output_type": "stream",
          "text": [
            "(10000, 28, 28)\n"
          ],
          "name": "stdout"
        }
      ]
    },
    {
      "cell_type": "code",
      "metadata": {
        "id": "JUecb0ivhu4a",
        "colab": {
          "base_uri": "https://localhost:8080/",
          "height": 154
        },
        "outputId": "fc3cb4e3-3d01-457d-8098-998605dfa9b1"
      },
      "source": [
        "n = 10\n",
        "plt.figure(figsize=(25, 25))\n",
        "for j, i in enumerate(np.random.randint(0, len(Recon), n)):\n",
        "  plt.subplot(1, n, j+1)\n",
        "  plt.imshow(Recon[i])\n",
        "  plt.title(Ytest[i])\n",
        "  plt.axis('off')\n",
        "plt.show()"
      ],
      "execution_count": 11,
      "outputs": [
        {
          "output_type": "display_data",
          "data": {
            "image/png": "[encoded data removed]",
            "text/plain": [
              "<Figure size 1800x1800 with 10 Axes>"
            ]
          },
          "metadata": {
            "tags": [],
            "needs_background": "light"
          }
        }
      ]
    },
    {
      "cell_type": "code",
      "metadata": {
        "id": "ZP1Z_dBviKLK",
        "colab": {
          "base_uri": "https://localhost:8080/",
          "height": 139
        },
        "outputId": "7d3e9fce-aaff-40ab-dbb7-e0f914668ebd"
      },
      "source": [
        "n = 10\n",
        "random_input = np.random.rand(n, Xtestencoded.shape[1]).astype(np.float32)\n",
        "random_decoded = de3(de2(de1(random_input))).numpy().reshape((n, 28, 28))\n",
        "plt.figure(figsize=(25,25))\n",
        "for i in range(n):\n",
        "  plt.subplot(1, n, i+1)\n",
        "  plt.imshow(random_decoded[i])\n",
        "  plt.axis('off')\n",
        "plt.show()"
      ],
      "execution_count": 12,
      "outputs": [
        {
          "output_type": "display_data",
          "data": {
            "image/png": "[encoded data removed]",
            "text/plain": [
              "<Figure size 1800x1800 with 10 Axes>"
            ]
          },
          "metadata": {
            "tags": [],
            "needs_background": "light"
          }
        }
      ]
    },
    {
      "cell_type": "code",
      "metadata": {
        "id": "ucXP83ruiz0_",
        "colab": {
          "base_uri": "https://localhost:8080/",
          "height": 154
        },
        "outputId": "65db2cb3-3820-40ab-94a8-14796e719f75"
      },
      "source": [
        "p = [4, 8]\n",
        "p1 = np.where(Ytest==p[0])[0]\n",
        "p2 = np.where(Ytest==p[1])[0]\n",
        "n = 10\n",
        "plt.figure(figsize=(25,25))\n",
        "for i in range(n):\n",
        "  temp = Xtestencoded[[np.random.choice(p1), np.random.choice(p2)]]\n",
        "  x = np.hstack((temp[0, :temp.shape[1]//2], temp[1, temp.shape[1]//2:])).reshape(1, temp.shape[1])\n",
        "  Recon = de3(de2(de1(x))).numpy()\n",
        "  Recon = Recon.reshape((len(Recon), 28, 28))[0]\n",
        "  plt.subplot(1, n, i+1)\n",
        "  plt.imshow(Recon)\n",
        "  plt.title(str(p[0])+ '+' +str(p[1]))\n",
        "  plt.axis('off')\n",
        "plt.show()"
      ],
      "execution_count": 13,
      "outputs": [
        {
          "output_type": "display_data",
          "data": {
            "image/png": "[encoded data removed]",
            "text/plain": [
              "<Figure size 1800x1800 with 10 Axes>"
            ]
          },
          "metadata": {
            "tags": [],
            "needs_background": "light"
          }
        }
      ]
    },
    {
      "cell_type": "code",
      "metadata": {
        "id": "FBSwfhOGkEYn"
      },
      "source": [
        ""
      ],
      "execution_count": null,
      "outputs": []
    }
  ]
}