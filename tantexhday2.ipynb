{
  "nbformat": 4,
  "nbformat_minor": 0,
  "metadata": {
    "colab": {
      "name": "tantexhday2.ipynb",
      "provenance": [],
      "authorship_tag": "ABX9TyNooxbJWj//RCCR/Le5a5t3",
      "include_colab_link": true
    },
    "kernelspec": {
      "name": "python3",
      "display_name": "Python 3"
    },
    "language_info": {
      "name": "python"
    },
    "accelerator": "GPU"
  },
  "cells": [
    {
      "cell_type": "markdown",
      "metadata": {
        "id": "view-in-github",
        "colab_type": "text"
      },
      "source": [
        "<a href=\"https://colab.research.google.com/github/tanupat085/test/blob/master/tantexhday2.ipynb\" target=\"_parent\"><img src=\"https://colab.research.google.com/assets/colab-badge.svg\" alt=\"Open In Colab\"/></a>"
      ]
    },
    {
      "cell_type": "code",
      "metadata": {
        "colab": {
          "base_uri": "https://localhost:8080/"
        },
        "id": "tWJSUHfv6vft",
        "outputId": "6c9387dd-6f5c-4979-fa27-e45a5eb0df93"
      },
      "source": [
        "from google.colab import drive\n",
        "drive.mount('/content/drive')"
      ],
      "execution_count": 1,
      "outputs": [
        {
          "output_type": "stream",
          "text": [
            "Mounted at /content/drive\n"
          ],
          "name": "stdout"
        }
      ]
    },
    {
      "cell_type": "code",
      "metadata": {
        "id": "vQtCB6CRMTrD"
      },
      "source": [
        "import numpy as np\n",
        "import pandas as pd\n",
        "from matplotlib import pyplot as plt"
      ],
      "execution_count": 2,
      "outputs": []
    },
    {
      "cell_type": "code",
      "metadata": {
        "id": "NmKDLoGs43if"
      },
      "source": [
        "data = pd.read_csv('drive/My Drive/mnist/train.csv')"
      ],
      "execution_count": 38,
      "outputs": []
    },
    {
      "cell_type": "code",
      "metadata": {
        "id": "eN86o_R67aX0",
        "colab": {
          "base_uri": "https://localhost:8080/"
        },
        "outputId": "e1bdce1c-c633-4b4b-d21e-add6ce29819e"
      },
      "source": [
        "data"
      ],
      "execution_count": 26,
      "outputs": [
        {
          "output_type": "execute_result",
          "data": {
            "text/plain": [
              "array([[2, 0, 0, ..., 0, 0, 0],\n",
              "       [2, 0, 0, ..., 0, 0, 0],\n",
              "       [6, 0, 0, ..., 0, 0, 0],\n",
              "       ...,\n",
              "       [5, 0, 0, ..., 0, 0, 0],\n",
              "       [6, 0, 0, ..., 0, 0, 0],\n",
              "       [1, 0, 0, ..., 0, 0, 0]])"
            ]
          },
          "metadata": {
            "tags": []
          },
          "execution_count": 26
        }
      ]
    },
    {
      "cell_type": "code",
      "metadata": {
        "id": "ObyYWE1pmhvb"
      },
      "source": [
        "data = np.array(data)\n",
        "m, n = data.shape\n",
        "np.random.shuffle(data) # shuffle before splitting into dev and training sets\n",
        "\n",
        "data_dev = data[0:1000].T\n",
        "Y_dev = data_dev[0]\n",
        "X_dev = data_dev[1:n]\n",
        "X_dev = X_dev / 255.\n",
        "\n",
        "data_train = data[1000:m].T\n",
        "Y_train = data_train[0]\n",
        "X_train = data_train[1:n]\n",
        "X_train = X_train / 255.\n",
        "_,m_train = X_train.shape"
      ],
      "execution_count": 39,
      "outputs": []
    },
    {
      "cell_type": "code",
      "metadata": {
        "colab": {
          "base_uri": "https://localhost:8080/"
        },
        "id": "oFGAFA8g4pPo",
        "outputId": "0d7c336c-e461-4246-e6ce-b6b4998fe05c"
      },
      "source": [
        "X_train[:,0].shape"
      ],
      "execution_count": 40,
      "outputs": [
        {
          "output_type": "execute_result",
          "data": {
            "text/plain": [
              "(784,)"
            ]
          },
          "metadata": {
            "tags": []
          },
          "execution_count": 40
        }
      ]
    },
    {
      "cell_type": "code",
      "metadata": {
        "id": "i7Xcz-D642Tw"
      },
      "source": [
        "def init_params():\n",
        "    W1 = np.random.rand(10, 784) - 0.5\n",
        "    b1 = np.random.rand(10, 1) - 0.5\n",
        "    W2 = np.random.rand(10, 10) - 0.5\n",
        "    b2 = np.random.rand(10, 1) - 0.5\n",
        "    return W1, b1, W2, b2\n",
        "\n",
        "def ReLU(Z):\n",
        "    return np.maximum(Z, 0)\n",
        "\n",
        "def softmax(Z):\n",
        "    A = np.exp(Z) / sum(np.exp(Z))\n",
        "    return A\n",
        "    \n",
        "def forward_prop(W1, b1, W2, b2, X):\n",
        "    Z1 = W1.dot(X) + b1\n",
        "    A1 = ReLU(Z1)\n",
        "    Z2 = W2.dot(A1) + b2\n",
        "    A2 = softmax(Z2)\n",
        "    return Z1, A1, Z2, A2\n",
        "\n",
        "def ReLU_deriv(Z):\n",
        "    return Z > 0\n",
        "\n",
        "def one_hot(Y):\n",
        "    one_hot_Y = np.zeros((Y.size, Y.max() + 1))\n",
        "    one_hot_Y[np.arange(Y.size), Y] = 1\n",
        "    one_hot_Y = one_hot_Y.T\n",
        "    return one_hot_Y\n",
        "\n",
        "def backward_prop(Z1, A1, Z2, A2, W1, W2, X, Y):\n",
        "    one_hot_Y = one_hot(Y)\n",
        "    dZ2 = A2 - one_hot_Y\n",
        "    dW2 = 1 / m * dZ2.dot(A1.T)\n",
        "    db2 = 1 / m * np.sum(dZ2)\n",
        "    dZ1 = W2.T.dot(dZ2) * ReLU_deriv(Z1)\n",
        "    dW1 = 1 / m * dZ1.dot(X.T)\n",
        "    db1 = 1 / m * np.sum(dZ1)\n",
        "    return dW1, db1, dW2, db2\n",
        "\n",
        "def update_params(W1, b1, W2, b2, dW1, db1, dW2, db2, alpha):\n",
        "    W1 = W1 - alpha * dW1\n",
        "    b1 = b1 - alpha * db1    \n",
        "    W2 = W2 - alpha * dW2  \n",
        "    b2 = b2 - alpha * db2    \n",
        "    return W1, b1, W2, b2"
      ],
      "execution_count": 41,
      "outputs": []
    },
    {
      "cell_type": "code",
      "metadata": {
        "id": "HWSbx39-6AjB"
      },
      "source": [
        "def get_predictions(A2):\n",
        "    return np.argmax(A2, 0)\n",
        "\n",
        "def get_accuracy(predictions, Y):\n",
        "    print(predictions, Y)\n",
        "    return np.sum(predictions == Y) / Y.size\n",
        "\n",
        "def gradient_descent(X, Y, alpha, iterations):\n",
        "    W1, b1, W2, b2 = init_params()\n",
        "    for i in range(iterations):\n",
        "        Z1, A1, Z2, A2 = forward_prop(W1, b1, W2, b2, X)\n",
        "        dW1, db1, dW2, db2 = backward_prop(Z1, A1, Z2, A2, W1, W2, X, Y)\n",
        "        W1, b1, W2, b2 = update_params(W1, b1, W2, b2, dW1, db1, dW2, db2, alpha)\n",
        "        if i % 10 == 0:\n",
        "            print(\"Iteration: \", i)\n",
        "            predictions = get_predictions(A2)\n",
        "            print(get_accuracy(predictions, Y))\n",
        "    return W1, b1, W2, b2"
      ],
      "execution_count": 42,
      "outputs": []
    },
    {
      "cell_type": "code",
      "metadata": {
        "colab": {
          "base_uri": "https://localhost:8080/"
        },
        "id": "x0WNj3hn6D_X",
        "outputId": "7e57f77a-830e-404a-87b2-0f775b80a2ac"
      },
      "source": [
        "W1, b1, W2, b2 = gradient_descent(X_train, Y_train, 0.10, 500)"
      ],
      "execution_count": 43,
      "outputs": [
        {
          "output_type": "stream",
          "text": [
            "Iteration:  0\n",
            "[5 0 3 ... 0 0 5] [4 3 0 ... 1 1 4]\n",
            "0.08617073170731707\n",
            "Iteration:  10\n",
            "[9 0 3 ... 1 1 5] [4 3 0 ... 1 1 4]\n",
            "0.13707317073170733\n",
            "Iteration:  20\n",
            "[9 0 3 ... 1 1 5] [4 3 0 ... 1 1 4]\n",
            "0.19790243902439025\n",
            "Iteration:  30\n",
            "[9 0 3 ... 1 1 5] [4 3 0 ... 1 1 4]\n",
            "0.26702439024390245\n",
            "Iteration:  40\n",
            "[9 0 3 ... 1 1 5] [4 3 0 ... 1 1 4]\n",
            "0.32751219512195123\n",
            "Iteration:  50\n",
            "[9 0 3 ... 1 1 5] [4 3 0 ... 1 1 4]\n",
            "0.38602439024390245\n",
            "Iteration:  60\n",
            "[9 0 3 ... 1 1 4] [4 3 0 ... 1 1 4]\n",
            "0.4564878048780488\n",
            "Iteration:  70\n",
            "[9 3 3 ... 1 1 4] [4 3 0 ... 1 1 4]\n",
            "0.5287317073170732\n",
            "Iteration:  80\n",
            "[4 3 3 ... 1 1 4] [4 3 0 ... 1 1 4]\n",
            "0.5718292682926829\n",
            "Iteration:  90\n",
            "[4 3 3 ... 1 1 4] [4 3 0 ... 1 1 4]\n",
            "0.6056341463414634\n",
            "Iteration:  100\n",
            "[4 3 3 ... 1 1 4] [4 3 0 ... 1 1 4]\n",
            "0.6312439024390244\n",
            "Iteration:  110\n",
            "[4 3 3 ... 1 1 4] [4 3 0 ... 1 1 4]\n",
            "0.6523658536585366\n",
            "Iteration:  120\n",
            "[4 3 3 ... 1 1 4] [4 3 0 ... 1 1 4]\n",
            "0.6701951219512196\n",
            "Iteration:  130\n",
            "[4 3 3 ... 1 1 4] [4 3 0 ... 1 1 4]\n",
            "0.684439024390244\n",
            "Iteration:  140\n",
            "[4 3 3 ... 1 1 4] [4 3 0 ... 1 1 4]\n",
            "0.6978292682926829\n",
            "Iteration:  150\n",
            "[4 3 3 ... 1 1 4] [4 3 0 ... 1 1 4]\n",
            "0.7094634146341463\n",
            "Iteration:  160\n",
            "[4 3 3 ... 1 1 4] [4 3 0 ... 1 1 4]\n",
            "0.7202439024390244\n",
            "Iteration:  170\n",
            "[4 3 0 ... 1 1 4] [4 3 0 ... 1 1 4]\n",
            "0.7301463414634146\n",
            "Iteration:  180\n",
            "[4 3 0 ... 1 1 4] [4 3 0 ... 1 1 4]\n",
            "0.7386585365853658\n",
            "Iteration:  190\n",
            "[4 3 0 ... 1 1 4] [4 3 0 ... 1 1 4]\n",
            "0.7468780487804878\n",
            "Iteration:  200\n",
            "[4 3 0 ... 1 1 4] [4 3 0 ... 1 1 4]\n",
            "0.7538536585365854\n",
            "Iteration:  210\n",
            "[4 3 0 ... 1 1 4] [4 3 0 ... 1 1 4]\n",
            "0.7600243902439024\n",
            "Iteration:  220\n",
            "[4 3 0 ... 1 1 4] [4 3 0 ... 1 1 4]\n",
            "0.7667804878048781\n",
            "Iteration:  230\n",
            "[4 3 0 ... 1 1 4] [4 3 0 ... 1 1 4]\n",
            "0.7734390243902439\n",
            "Iteration:  240\n",
            "[4 3 0 ... 1 1 4] [4 3 0 ... 1 1 4]\n",
            "0.7787560975609756\n",
            "Iteration:  250\n",
            "[4 3 0 ... 1 1 4] [4 3 0 ... 1 1 4]\n",
            "0.784390243902439\n",
            "Iteration:  260\n",
            "[4 3 0 ... 1 1 4] [4 3 0 ... 1 1 4]\n",
            "0.7897804878048781\n",
            "Iteration:  270\n",
            "[4 3 0 ... 1 1 4] [4 3 0 ... 1 1 4]\n",
            "0.7937073170731708\n",
            "Iteration:  280\n",
            "[4 3 0 ... 1 1 4] [4 3 0 ... 1 1 4]\n",
            "0.797829268292683\n",
            "Iteration:  290\n",
            "[4 3 0 ... 1 1 4] [4 3 0 ... 1 1 4]\n",
            "0.8013902439024391\n",
            "Iteration:  300\n",
            "[4 3 0 ... 1 1 4] [4 3 0 ... 1 1 4]\n",
            "0.8052682926829269\n",
            "Iteration:  310\n",
            "[4 3 0 ... 1 1 4] [4 3 0 ... 1 1 4]\n",
            "0.8091219512195122\n",
            "Iteration:  320\n",
            "[4 3 0 ... 1 1 4] [4 3 0 ... 1 1 4]\n",
            "0.8125121951219512\n",
            "Iteration:  330\n",
            "[4 3 0 ... 1 1 4] [4 3 0 ... 1 1 4]\n",
            "0.8159756097560975\n",
            "Iteration:  340\n",
            "[4 3 0 ... 1 1 4] [4 3 0 ... 1 1 4]\n",
            "0.8185853658536585\n",
            "Iteration:  350\n",
            "[4 3 0 ... 1 1 4] [4 3 0 ... 1 1 4]\n",
            "0.8217073170731707\n",
            "Iteration:  360\n",
            "[4 3 0 ... 1 1 4] [4 3 0 ... 1 1 4]\n",
            "0.8240243902439024\n",
            "Iteration:  370\n",
            "[4 3 0 ... 1 1 4] [4 3 0 ... 1 1 4]\n",
            "0.8264390243902439\n",
            "Iteration:  380\n",
            "[4 3 0 ... 1 1 4] [4 3 0 ... 1 1 4]\n",
            "0.8289512195121951\n",
            "Iteration:  390\n",
            "[4 3 0 ... 1 1 4] [4 3 0 ... 1 1 4]\n",
            "0.8306097560975609\n",
            "Iteration:  400\n",
            "[4 3 0 ... 1 1 4] [4 3 0 ... 1 1 4]\n",
            "0.8327317073170731\n",
            "Iteration:  410\n",
            "[4 3 0 ... 1 1 4] [4 3 0 ... 1 1 4]\n",
            "0.8346829268292683\n",
            "Iteration:  420\n",
            "[4 3 0 ... 1 1 4] [4 3 0 ... 1 1 4]\n",
            "0.8370243902439024\n",
            "Iteration:  430\n",
            "[4 3 0 ... 1 1 4] [4 3 0 ... 1 1 4]\n",
            "0.8391463414634146\n",
            "Iteration:  440\n",
            "[4 3 0 ... 1 1 4] [4 3 0 ... 1 1 4]\n",
            "0.8411219512195122\n",
            "Iteration:  450\n",
            "[4 3 0 ... 1 1 4] [4 3 0 ... 1 1 4]\n",
            "0.8429024390243902\n",
            "Iteration:  460\n",
            "[4 3 0 ... 1 1 4] [4 3 0 ... 1 1 4]\n",
            "0.8445365853658536\n",
            "Iteration:  470\n",
            "[4 3 0 ... 1 1 4] [4 3 0 ... 1 1 4]\n",
            "0.8464146341463414\n",
            "Iteration:  480\n",
            "[4 3 0 ... 1 1 4] [4 3 0 ... 1 1 4]\n",
            "0.8482439024390244\n",
            "Iteration:  490\n",
            "[4 3 0 ... 1 1 4] [4 3 0 ... 1 1 4]\n",
            "0.8498536585365853\n"
          ],
          "name": "stdout"
        }
      ]
    }
  ]
}