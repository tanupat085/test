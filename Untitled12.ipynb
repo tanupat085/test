{
  "nbformat": 4,
  "nbformat_minor": 0,
  "metadata": {
    "colab": {
      "name": "Untitled12.ipynb",
      "provenance": [],
      "authorship_tag": "ABX9TyP19f2y+daymh+wucu2UrcW",
      "include_colab_link": true
    },
    "kernelspec": {
      "name": "python3",
      "display_name": "Python 3"
    },
    "language_info": {
      "name": "python"
    }
  },
  "cells": [
    {
      "cell_type": "markdown",
      "metadata": {
        "id": "view-in-github",
        "colab_type": "text"
      },
      "source": [
        "<a href=\"https://colab.research.google.com/github/tanupat085/test/blob/master/Untitled12.ipynb\" target=\"_parent\"><img src=\"https://colab.research.google.com/assets/colab-badge.svg\" alt=\"Open In Colab\"/></a>"
      ]
    },
    {
      "cell_type": "code",
      "metadata": {
        "colab": {
          "base_uri": "https://localhost:8080/"
        },
        "id": "v87optTA8CCk",
        "outputId": "904e28b6-24cf-41b6-d08b-19e56e18c266"
      },
      "source": [
        "inte = 3\n",
        "fin = 8\n",
        "step = 2\n",
        "sum = 0\n",
        "for i in range(inte,fin,step):\n",
        "  sum+=i\n",
        "print(sum)"
      ],
      "execution_count": 1,
      "outputs": [
        {
          "output_type": "stream",
          "text": [
            "15\n"
          ],
          "name": "stdout"
        }
      ]
    },
    {
      "cell_type": "code",
      "metadata": {
        "colab": {
          "base_uri": "https://localhost:8080/"
        },
        "id": "dZjDpEjo8f-6",
        "outputId": "2cdd57f7-f85f-4b4c-d137-e250a510e6ea"
      },
      "source": [
        "s = input(\"input text here\")\n",
        "s = int(s)\n",
        "print(s/10)"
      ],
      "execution_count": 2,
      "outputs": [
        {
          "output_type": "stream",
          "text": [
            "input text here15\n",
            "1.5\n"
          ],
          "name": "stdout"
        }
      ]
    },
    {
      "cell_type": "code",
      "metadata": {
        "colab": {
          "base_uri": "https://localhost:8080/"
        },
        "id": "fHLCUw8S8qVF",
        "outputId": "e3b11395-1654-43c6-e11c-37f44d7b48d9"
      },
      "source": [
        "x = 5\n",
        "num = 22\n",
        "a = num//x\n",
        "b = num%x\n",
        "c = num/x\n",
        "print(\"a=\",a,\"b=\",b,\"and c=\",c)"
      ],
      "execution_count": 3,
      "outputs": [
        {
          "output_type": "stream",
          "text": [
            "a= 4 b= 2 and c= 4.4\n"
          ],
          "name": "stdout"
        }
      ]
    },
    {
      "cell_type": "code",
      "metadata": {
        "colab": {
          "base_uri": "https://localhost:8080/"
        },
        "id": "daYKQ0xD9ANx",
        "outputId": "469bf0f0-ada6-43b6-c318-d598862a0605"
      },
      "source": [
        "s = \"SCQC2021\"\n",
        "l = len(s)\n",
        "while l>4 :\n",
        "  l=l-1\n",
        "  s=s[0:l]\n",
        "print(s)\n"
      ],
      "execution_count": 4,
      "outputs": [
        {
          "output_type": "stream",
          "text": [
            "SCQC\n"
          ],
          "name": "stdout"
        }
      ]
    },
    {
      "cell_type": "code",
      "metadata": {
        "colab": {
          "base_uri": "https://localhost:8080/"
        },
        "id": "5Fk6Li1K98bm",
        "outputId": "aa4422f1-58ee-460f-9845-5f2f418964d1"
      },
      "source": [
        "x = 0\n",
        "while x<5:\n",
        "  print('Python')\n",
        "  x = x + 1\n",
        "print('End')"
      ],
      "execution_count": 5,
      "outputs": [
        {
          "output_type": "stream",
          "text": [
            "Python\n",
            "Python\n",
            "Python\n",
            "Python\n",
            "Python\n",
            "End\n"
          ],
          "name": "stdout"
        }
      ]
    }
  ]
}